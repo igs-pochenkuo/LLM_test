{
 "cells": [
  {
   "cell_type": "code",
   "execution_count": 1,
   "id": "ff28481a-bc80-43bf-9074-95242c2a357b",
   "metadata": {},
   "outputs": [],
   "source": [
    "import os\n",
    "from haystack import Pipeline, PredefinedPipeline"
   ]
  },
  {
   "cell_type": "code",
   "execution_count": 3,
   "id": "e91ee6c8-292e-4d86-a6a2-bb3b299c88b1",
   "metadata": {},
   "outputs": [],
   "source": [
    "MyopenaiKey = \"\""
   ]
  },
  {
   "cell_type": "code",
   "execution_count": 4,
   "id": "9d049db9-41bd-4e64-812b-3b7bd0c367f9",
   "metadata": {},
   "outputs": [],
   "source": [
    "os.environ[\"OPENAI_API_KEY\"] = MyopenaiKey"
   ]
  },
  {
   "cell_type": "code",
   "execution_count": 6,
   "id": "01bf308c-ccf0-44cc-8d8a-7a9207d6a10e",
   "metadata": {},
   "outputs": [
    {
     "name": "stdout",
     "output_type": "stream",
     "text": [
      "要建立RAG（檢索增強生成）管道，您需要以下主要組件：\n",
      "\n",
      "1. **檢索器（Retriever）**：負責從文檔存儲中檢索相關文檔的組件。\n",
      "\n",
      "2. **提示生成器（PromptBuilder）**：將檢索到的文檔內容與查詢結合在一起，生成適合於大型語言模型（LLM）處理的提示。\n",
      "\n",
      "3. **生成器（Generator）**：這是LLM的組件，負責根據提示生成最終答案。\n",
      "\n",
      "這三個組件共同工作，可以幫助您建立現代的搜索管道，並使其能夠有效回答關於給定文檔的問題。\n"
     ]
    }
   ],
   "source": [
    "pipeline = Pipeline.from_template(PredefinedPipeline.CHAT_WITH_WEBSITE)\n",
    "result = pipeline.run({\n",
    "    \"fetcher\": {\"urls\": [\"https://haystack.deepset.ai/overview/quick-start\"]},\n",
    "    \"prompt\": {\"query\": \"Please reply with traditional chinese. Which components do I need for a RAG pipeline?\"}}\n",
    ")\n",
    "print(result[\"llm\"][\"replies\"][0])"
   ]
  },
  {
   "cell_type": "code",
   "execution_count": 7,
   "id": "3720a844-d102-4390-a58b-3c66f439293d",
   "metadata": {},
   "outputs": [],
   "source": [
    "import os\n",
    "\n",
    "from haystack import Pipeline\n",
    "from haystack.components.fetchers import LinkContentFetcher\n",
    "from haystack.components.converters import HTMLToDocument\n",
    "from haystack.components.builders import PromptBuilder\n",
    "from haystack.components.generators import OpenAIGenerator"
   ]
  },
  {
   "cell_type": "code",
   "execution_count": 8,
   "id": "4d6768a3-81e0-42c4-84ed-592dc7072878",
   "metadata": {},
   "outputs": [
    {
     "name": "stdout",
     "output_type": "stream",
     "text": [
      "在RAG（檢索增強生成）管道中，您需要以下組件：\n",
      "\n",
      "1. **檢索器（Retriever）**：用於從文檔存儲中檢索相關文檔。\n",
      "2. **提示生成器（PromptBuilder）**：構建查詢的提示，該提示會根據檢索到的文檔生成回答。\n",
      "3. **生成器（Generator）**：使用大型語言模型（例如OpenAI的GPT）來生成最終的回答基於給定的提示。\n",
      "\n",
      "這些組件共同工作，可以幫助您創建強大的自定義應用，以便回答有關特定文檔的問題。\n"
     ]
    }
   ],
   "source": [
    "fetcher = LinkContentFetcher()\n",
    "converter = HTMLToDocument()\n",
    "prompt_template = \"\"\"\n",
    "According to the contents of this website:\n",
    "{% for document in documents %}\n",
    "  {{document.content}}\n",
    "{% endfor %}\n",
    "Answer the given question: {{query}}\n",
    "Answer:\n",
    "\"\"\"\n",
    "prompt_builder = PromptBuilder(template=prompt_template)\n",
    "llm = OpenAIGenerator()\n",
    "\n",
    "pipeline = Pipeline()\n",
    "pipeline.add_component(\"fetcher\", fetcher)\n",
    "pipeline.add_component(\"converter\", converter)\n",
    "pipeline.add_component(\"prompt\", prompt_builder)\n",
    "pipeline.add_component(\"llm\", llm)\n",
    "\n",
    "pipeline.connect(\"fetcher.streams\", \"converter.sources\")\n",
    "pipeline.connect(\"converter.documents\", \"prompt.documents\")\n",
    "pipeline.connect(\"prompt.prompt\", \"llm.prompt\")\n",
    "\n",
    "result = pipeline.run({\"fetcher\": {\"urls\": [\"https://haystack.deepset.ai/overview/quick-start\"]},\n",
    "              \"prompt\": {\"query\": \"Please reply with traditional chinese. hich components do I need for a RAG pipeline?\"}})\n",
    "\n",
    "print(result[\"llm\"][\"replies\"][0])"
   ]
  },
  {
   "cell_type": "code",
   "execution_count": null,
   "id": "445a81fb-71d8-4709-ad88-ecf3310e1a06",
   "metadata": {},
   "outputs": [],
   "source": []
  }
 ],
 "metadata": {
  "kernelspec": {
   "display_name": "Python 3 (ipykernel)",
   "language": "python",
   "name": "python3"
  },
  "language_info": {
   "codemirror_mode": {
    "name": "ipython",
    "version": 3
   },
   "file_extension": ".py",
   "mimetype": "text/x-python",
   "name": "python",
   "nbconvert_exporter": "python",
   "pygments_lexer": "ipython3",
   "version": "3.9.21"
  }
 },
 "nbformat": 4,
 "nbformat_minor": 5
}
